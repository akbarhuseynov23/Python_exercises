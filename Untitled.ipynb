{
 "cells": [
  {
   "cell_type": "code",
   "execution_count": null,
   "id": "f1226570-b7de-4d50-8a0d-aad0444fd080",
   "metadata": {},
   "outputs": [],
   "source": [
    "import random \n",
    "def heads_tails(number_of_coins):\n",
    "    tails = 0\n",
    "    heads = 0\n",
    "    for i in range(number_of_coins):\n",
    "        rand = random.randint(1,2)\n",
    "        if rand == 1:\n",
    "            tails += 1\n",
    "            return (tails, \"tails\")\n",
    "        else:\n",
    "            heads += 1\n",
    "            return (heads, \"heads\")\n",
    "    return (\"heads\", heads)"
   ]
  },
  {
   "cell_type": "code",
   "execution_count": null,
   "id": "0b7ac5ee-4a02-4683-8518-8b1ce3493c96",
   "metadata": {},
   "outputs": [],
   "source": [
    "\n",
    "def intersection(set1, set2):\n",
    "    set1 = {\"a\", \"b\" , \"c\"}\n",
    "    set2 = {1, 2, 3}\n",
    "    intersection = set1.intersection(set2)\n",
    "    print(intersection)"
   ]
  },
  {
   "cell_type": "code",
   "execution_count": null,
   "id": "87fb6e32-e00f-4b83-877b-ec8ae7492a1f",
   "metadata": {},
   "outputs": [],
   "source": [
    "def string_reverse(str):\n",
    "    rev = str[::-1]\n",
    "    return rev"
   ]
  }
 ],
 "metadata": {
  "kernelspec": {
   "display_name": "Python 3",
   "language": "python",
   "name": "python3"
  },
  "language_info": {
   "codemirror_mode": {
    "name": "ipython",
    "version": 3
   },
   "file_extension": ".py",
   "mimetype": "text/x-python",
   "name": "python",
   "nbconvert_exporter": "python",
   "pygments_lexer": "ipython3",
   "version": "3.8.8"
  }
 },
 "nbformat": 4,
 "nbformat_minor": 5
}
